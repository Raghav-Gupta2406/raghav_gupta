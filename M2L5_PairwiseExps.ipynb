{
 "cells": [
  {
   "cell_type": "code",
   "execution_count": 5,
   "id": "cfc28164",
   "metadata": {},
   "outputs": [
    {
     "name": "stdout",
     "output_type": "stream",
     "text": [
      "Dataset loaded: Meeting Transcripts\n"
     ]
    }
   ],
   "source": [
    "# 1. Setup, Imports, and Dataset Loading\n",
    "import os\n",
    "from dotenv import load_dotenv\n",
    "from langsmith import Client, evaluate\n",
    "from langchain_groq import ChatGroq\n",
    "from langchain.output_parsers import PydanticOutputParser\n",
    "from langchain_core.prompts import PromptTemplate\n",
    "from pydantic import BaseModel, Field\n",
    "import nest_asyncio\n",
    "\n",
    "# --- Configuration ---\n",
    "load_dotenv()\n",
    "MODEL_NAME = \"llama-3.3-70b-versatile\"\n",
    "client = Client()\n",
    "nest_asyncio.apply()\n",
    "\n",
    "# Initialize Groq client for generation and evaluation\n",
    "groq_llm = ChatGroq(model=MODEL_NAME, temperature=0)\n",
    "\n",
    "# TWEAK: Clone a public dataset (this dataset contains transcripts)\n",
    "dataset = client.clone_public_dataset(\n",
    "  \"https://smith.langchain.com/public/9078d2f1-7bef-4ba7-b795-210a17682ef9/d\"\n",
    ")\n",
    "print(f\"Dataset loaded: {dataset.name}\")"
   ]
  },
  {
   "cell_type": "code",
   "execution_count": 6,
   "id": "9ef6ac6a",
   "metadata": {},
   "outputs": [],
   "source": [
    "# 2. Custom Pydantic Evaluator Setup\n",
    "\n",
    "# Define the structured output schema for scoring\n",
    "class SummarizationScore(BaseModel):\n",
    "    score: int = Field(description=\"A score from 1-5 ranking how good the summarization is for the provided transcript, with 1 being a bad summary, and 5 being a great summary\")\n",
    "\n",
    "parser_score = PydanticOutputParser(pydantic_object=SummarizationScore)\n",
    "\n",
    "SUMMARIZATION_SYSTEM_PROMPT = \"You are a judge, aiming to score how well a summary summarizes the content of a customer service transcript. Only output a valid JSON object adhering to the schema.\" # TWEAK: Context change\n",
    "\n",
    "SUMMARIZATION_HUMAN_PROMPT = \"\"\"\n",
    "[The Customer Service Transcript] {transcript}\n",
    "[The Summary] {summary}\n",
    "{format_instructions}\n",
    "\"\"\"\n",
    "\n",
    "score_prompt = PromptTemplate(\n",
    "    template=SUMMARIZATION_SYSTEM_PROMPT + \"\\n\\n\" + SUMMARIZATION_HUMAN_PROMPT,\n",
    "    input_variables=[\"transcript\", \"summary\"],\n",
    "    partial_variables={\"format_instructions\": parser_score.get_format_instructions()},\n",
    ")\n",
    "\n",
    "# Function to run evaluation score\n",
    "def summary_score_evaluator(inputs: dict, outputs: dict) -> dict:\n",
    "    try:\n",
    "        # Construct the full prompt for the LLM Judge\n",
    "        full_prompt = score_prompt.format(\n",
    "            transcript=inputs[\"transcript\"],\n",
    "            summary=outputs.get(\"output\", \"N/A\")\n",
    "        )\n",
    "        # Invoke Groq for structured output (LLM-as-Judge)\n",
    "        judge_chain = groq_llm | parser_score\n",
    "        result = judge_chain.invoke(full_prompt)\n",
    "        score = result.score\n",
    "    except Exception as e:\n",
    "        print(f\"Evaluator failed: {e}\")\n",
    "        score = 1 # Assign a low score on failure\n",
    "\n",
    "    # Format the score for Langsmith\n",
    "    return {\"key\": \"summary_score\", \"score\": score}"
   ]
  },
  {
   "cell_type": "code",
   "execution_count": 7,
   "id": "484a1c71",
   "metadata": {},
   "outputs": [
    {
     "name": "stdout",
     "output_type": "stream",
     "text": [
      "Starting Good Summarizer Experiment (Groq CS)...\n",
      "View the evaluation results for experiment: 'Groq-CS-Good-Summarizer-Tweak-291f4c74' at:\n",
      "https://smith.langchain.com/o/6072fe80-253a-475b-81f3-74f20971421c/datasets/0c88bdc3-40e6-4c90-a1d7-001b0b52e339/compare?selectedSessions=d3d84c23-2567-4cbd-bdb4-a7f237f80095\n",
      "\n",
      "\n"
     ]
    },
    {
     "name": "stderr",
     "output_type": "stream",
     "text": [
      "5it [00:04,  1.17it/s]"
     ]
    },
    {
     "name": "stdout",
     "output_type": "stream",
     "text": [
      "Good Experiment Name: Groq-CS-Good-Summarizer-Tweak-291f4c74\n"
     ]
    },
    {
     "name": "stderr",
     "output_type": "stream",
     "text": [
      "\n"
     ]
    }
   ],
   "source": [
    "# 3. Running Experiment 1: Good Summarizer\n",
    "\n",
    "# Prompt One: Good Prompt\n",
    "def good_summarizer(inputs: dict):\n",
    "    response = groq_llm.invoke(\n",
    "        f\"Concisely summarize this customer service transcript in 3 sentences. Focus on the final resolution. Transcript: {inputs['transcript']}\" # TWEAK: Custom prompt and context\n",
    "    )\n",
    "    return response.content\n",
    "\n",
    "# TWEAK: Custom Experiment Prefix\n",
    "print(\"Starting Good Summarizer Experiment (Groq CS)...\")\n",
    "good_experiment = client.evaluate(\n",
    "    good_summarizer,\n",
    "    data=dataset,\n",
    "    evaluators=[summary_score_evaluator],\n",
    "    experiment_prefix=\"Groq-CS-Good-Summarizer-Tweak\"\n",
    ")\n",
    "print(f\"Good Experiment Name: {good_experiment.experiment_name}\")"
   ]
  },
  {
   "cell_type": "code",
   "execution_count": 8,
   "id": "b015e578",
   "metadata": {},
   "outputs": [
    {
     "name": "stdout",
     "output_type": "stream",
     "text": [
      "\n",
      "Starting Bad Summarizer Experiment (Groq CS)...\n",
      "View the evaluation results for experiment: 'Groq-CS-Bad-Summarizer-Tweak-7abd520d' at:\n",
      "https://smith.langchain.com/o/6072fe80-253a-475b-81f3-74f20971421c/datasets/0c88bdc3-40e6-4c90-a1d7-001b0b52e339/compare?selectedSessions=8f933b0c-9e69-4fae-bbf7-f164437ce4b8\n",
      "\n",
      "\n"
     ]
    },
    {
     "name": "stderr",
     "output_type": "stream",
     "text": [
      "5it [00:02,  1.67it/s]"
     ]
    },
    {
     "name": "stdout",
     "output_type": "stream",
     "text": [
      "Bad Experiment Name: Groq-CS-Bad-Summarizer-Tweak-7abd520d\n"
     ]
    },
    {
     "name": "stderr",
     "output_type": "stream",
     "text": [
      "\n"
     ]
    }
   ],
   "source": [
    "# 4. Running Experiment 2: Bad Summarizer\n",
    "\n",
    "# Prompt Two: Worse Prompt!\n",
    "def bad_summarizer(inputs: dict):\n",
    "    response = groq_llm.invoke(\n",
    "        f\"Summarize this entire transcript in one very short sentence. Include no specific details. Transcript: {inputs['transcript']}\" # TWEAK: Custom prompt\n",
    "    )\n",
    "    return response.content\n",
    "\n",
    "# TWEAK: Custom Experiment Prefix\n",
    "print(\"\\nStarting Bad Summarizer Experiment (Groq CS)...\")\n",
    "bad_experiment = client.evaluate(\n",
    "    bad_summarizer,\n",
    "    data=dataset,\n",
    "    evaluators=[summary_score_evaluator],\n",
    "    experiment_prefix=\"Groq-CS-Bad-Summarizer-Tweak\"\n",
    ")\n",
    "print(f\"Bad Experiment Name: {bad_experiment.experiment_name}\")"
   ]
  },
  {
   "cell_type": "code",
   "execution_count": 9,
   "id": "661c24ad",
   "metadata": {},
   "outputs": [],
   "source": [
    "# 5. Pairwise Evaluator Definition\n",
    "\n",
    "class Preference(BaseModel):\n",
    "    preference: int = Field(description=\"1 if Assistant A answer is better. 2 if Assistant B answer is better. 0 if it is a tie.\")\n",
    "    \n",
    "parser_preference = PydanticOutputParser(pydantic_object=Preference)\n",
    "\n",
    "JUDGE_SYSTEM_PROMPT = \"\"\"\n",
    "Please act as an impartial judge and evaluate the quality of the summarizations provided by two AI summarizers to the customer service transcript below. \n",
    "Your evaluation should consider factors such as the helpfulness, relevance, accuracy, and detail of their summarizations. \n",
    "Begin your evaluation by comparing the two summarizations and provide a short explanation. \n",
    "Only output a valid JSON object adhering to the schema.\n",
    "\"\"\"\n",
    "JUDGE_HUMAN_PROMPT = \"\"\"\n",
    "[The Customer Service Transcript] {transcript}\\n\n",
    "[Assistant A's Summarization] {answer_a}\\n\n",
    "[Assistant B's Summarization] {answer_b}\\n\n",
    "{format_instructions}\n",
    "\"\"\"\n",
    "\n",
    "def ranked_preference(inputs: dict, outputs: list[dict]) -> list:\n",
    "    # This function compares two experiment outputs\n",
    "    full_prompt = PromptTemplate(\n",
    "        template=JUDGE_SYSTEM_PROMPT + \"\\n\\n\" + JUDGE_HUMAN_PROMPT,\n",
    "        input_variables=[\"transcript\", \"answer_a\", \"answer_b\"],\n",
    "        partial_variables={\"format_instructions\": parser_preference.get_format_instructions()},\n",
    "    ).format(\n",
    "        transcript=inputs[\"transcript\"],\n",
    "        answer_a=outputs[0].get(\"output\", \"N/A\"),\n",
    "        answer_b=outputs[1].get(\"output\", \"N/A\")\n",
    "    )\n",
    "    \n",
    "    # Invoke Groq for structured output\n",
    "    judge_chain = groq_llm | parser_preference\n",
    "    try:\n",
    "        result = judge_chain.invoke(full_prompt)\n",
    "        preference_score = result.preference\n",
    "    except Exception:\n",
    "        preference_score = 0 # Assign tie on failure\n",
    "\n",
    "    # Format the score [A Score, B Score]\n",
    "    if preference_score == 1:\n",
    "        scores = [1, 0]\n",
    "    elif preference_score == 2:\n",
    "        scores = [0, 1]\n",
    "    else:\n",
    "        scores = [0, 0]\n",
    "    return scores"
   ]
  },
  {
   "attachments": {
    "image.png": {
     "image/png": "[encoded data removed]"
    }
   },
   "cell_type": "markdown",
   "id": "9bd7b9e4",
   "metadata": {},
   "source": [
    "![image.png](attachment:image.png)"
   ]
  }
 ],
 "metadata": {
  "kernelspec": {
   "display_name": "langsmith_env",
   "language": "python",
   "name": "python3"
  },
  "language_info": {
   "codemirror_mode": {
    "name": "ipython",
    "version": 3
   },
   "file_extension": ".py",
   "mimetype": "text/x-python",
   "name": "python",
   "nbconvert_exporter": "python",
   "pygments_lexer": "ipython3",
   "version": "3.10.18"
  }
 },
 "nbformat": 4,
 "nbformat_minor": 5
}
