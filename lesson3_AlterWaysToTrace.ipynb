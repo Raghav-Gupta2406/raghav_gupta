{
 "cells": [
  {
   "cell_type": "code",
   "execution_count": 4,
   "id": "d0c11412",
   "metadata": {},
   "outputs": [
    {
     "name": "stdout",
     "output_type": "stream",
     "text": [
      "\n",
      "--- Automatic Tracing Example ---\n",
      "\n",
      "`@traceable` is not a standard Python decorator, but assuming it's similar to other tracing decorators, the key difference between `@traceable` and the `with trace()` context manager is:\n",
      "\n",
      "* `@traceable` is a function decorator that enables tracing for a specific function.\n",
      "* `with trace()` is a context manager that enables tracing for a block of code within the `with` statement.\n",
      "\n",
      "In other words, `@traceable` is function-scoped, while `with trace()` is block-scoped.\n"
     ]
    }
   ],
   "source": [
    "# 4. Automatic Tracing via Environment (Groq Equivalent of wrap_openai)\n",
    "\n",
    "# We demonstrate wrapping by using a simple Groq call without any traceable decorators, \n",
    "# relying purely on the environment variables set outside this notebook.\n",
    "\n",
    "def simple_groq_call(user_input: str):\n",
    "    messages = [\n",
    "        {\"role\": \"system\", \"content\": \"You are a concise summarizer.\"},\n",
    "        {\"role\": \"user\", \"content\": user_input}\n",
    "    ]\n",
    "    # This LLM call is automatically traced because LANGSMITH_TRACING=true is set in .env\n",
    "    response = llm_client.invoke(messages) \n",
    "    return response.content\n",
    "\n",
    "print(\"\\n--- Automatic Tracing Example ---\\n\")\n",
    "question_auto = \"Summarize the key difference between @traceable and the with trace() context manager.\"\n",
    "ai_answer_auto = simple_groq_call(question_auto)\n",
    "print(ai_answer_auto)"
   ]
  },
  {
   "cell_type": "code",
   "execution_count": 3,
   "id": "876e2106",
   "metadata": {},
   "outputs": [
    {
     "name": "stdout",
     "output_type": "stream",
     "text": [
      "--- Question (Context Manager) ---\n",
      "\n",
      "How do I trace complex logic using the LangSmith Context Manager?\n",
      "\n",
      "--- Answer ---\n",
      "\n",
      "I don't know how to trace complex logic using the LangSmith Context Manager, as the provided context only discusses using the @traceable decorator for tracing. The context does not mention the LangSmith Context Manager or its usage. It may be a separate feature or functionality that is not covered in the given information.\n"
     ]
    }
   ],
   "source": [
    "# 3. Execution of Context Manager Example\n",
    "\n",
    "question_cm = \"How do I trace complex logic using the LangSmith Context Manager?\"\n",
    "ai_answer_cm = langsmith_rag(question_cm)\n",
    "\n",
    "print(\"--- Question (Context Manager) ---\\n\")\n",
    "print(question_cm)\n",
    "print(\"\\n--- Answer ---\\n\")\n",
    "print(ai_answer_cm)"
   ]
  },
  {
   "cell_type": "code",
   "execution_count": 2,
   "id": "6eb44900",
   "metadata": {},
   "outputs": [],
   "source": [
    "# 2. RAG Functions: Implementing the `with trace()` Context Manager Tweak\n",
    "\n",
    "@traceable(run_type=\"retriever\", name=\"Retrieve Documents\")\n",
    "def retrieve_documents(question: str):\n",
    "    return retriever.invoke(question)   \n",
    "\n",
    "# TWEAK: Removed @traceable and replaced it with a manual trace context\n",
    "def generate_response(question: str, documents):\n",
    "    formatted_docs = \"\\n\\n\".join(doc.page_content for doc in documents)\n",
    "\n",
    "    # START OF TWEAK: Manual trace context manager\n",
    "    with trace(\n",
    "        name=\"Generate Response (Manual Context)\",\n",
    "        run_type=\"chain\", \n",
    "        inputs={\"question\": question, \"documents\": documents},\n",
    "        tags=[\"manual-context-manager\", \"lesson-3-tweak\"] # Custom tags for identification\n",
    "    ) as ls_trace:\n",
    "        messages = [\n",
    "            {\"role\": \"system\", \"content\": RAG_SYSTEM_PROMPT},\n",
    "            {\"role\": \"user\", \"content\": f\"Context: {formatted_docs} \\n\\n Question: {question}\"}\n",
    "        ]\n",
    "        \n",
    "        # Call the LLM (this will be traced automatically by LangChain/Groq)\n",
    "        response = llm_client.invoke(messages)\n",
    "        \n",
    "        # END OF TWEAK: Manually end the trace and write outputs\n",
    "        ls_trace.end(outputs={\"output\": response.content}) \n",
    "        \n",
    "        return response\n",
    "\n",
    "\n",
    "@traceable(run_type=\"chain\", name=\"Root RAG Pipeline\")\n",
    "def langsmith_rag(question: str):\n",
    "    documents = retrieve_documents(question)\n",
    "    response = generate_response(question, documents)\n",
    "    return response.content"
   ]
  },
  {
   "cell_type": "code",
   "execution_count": 1,
   "id": "e4d09e0e",
   "metadata": {},
   "outputs": [
    {
     "name": "stderr",
     "output_type": "stream",
     "text": [
      "c:\\Users\\Raghav Gupta\\anaconda3\\envs\\langsmith_env\\lib\\site-packages\\tqdm\\auto.py:21: TqdmWarning: IProgress not found. Please update jupyter and ipywidgets. See https://ipywidgets.readthedocs.io/en/stable/user_install.html\n",
      "  from .autonotebook import tqdm as notebook_tqdm\n",
      "c:\\Users\\Raghav Gupta\\OneDrive\\Desktop\\Langsmith-MAT496\\utils.py:21: LangChainDeprecationWarning: The class `HuggingFaceEmbeddings` was deprecated in LangChain 0.2.2 and will be removed in 1.0. An updated version of the class exists in the :class:`~langchain-huggingface package and should be used instead. To use it run `pip install -U :class:`~langchain-huggingface` and import as `from :class:`~langchain_huggingface import HuggingFaceEmbeddings``.\n",
      "  embedding_model = HuggingFaceEmbeddings(model_name=\"all-MiniLM-L6-v2\")\n"
     ]
    }
   ],
   "source": [
    "# 1. Setup Environment and Imports (Groq Ready)\n",
    "import os\n",
    "from dotenv import load_dotenv\n",
    "from langsmith import traceable, trace # trace is the context manager\n",
    "from langsmith.wrappers import wrap_openai # Needed for Groq/OpenAI client wrapping\n",
    "from langchain_groq import ChatGroq \n",
    "from typing import List\n",
    "import nest_asyncio\n",
    "from utils import get_vector_db_retriever, RAG_SYSTEM_PROMPT\n",
    "\n",
    "# --- Configuration ---\n",
    "load_dotenv()\n",
    "MODEL_NAME = \"llama-3.3-70b-versatile\" # Using the confirmed, working Groq model\n",
    "# We initialize the Groq client\n",
    "llm_client = ChatGroq(model=MODEL_NAME)\n",
    "nest_asyncio.apply()\n",
    "retriever = get_vector_db_retriever()"
   ]
  }
 ],
 "metadata": {
  "kernelspec": {
   "display_name": "langsmith_env",
   "language": "python",
   "name": "python3"
  },
  "language_info": {
   "codemirror_mode": {
    "name": "ipython",
    "version": 3
   },
   "file_extension": ".py",
   "mimetype": "text/x-python",
   "name": "python",
   "nbconvert_exporter": "python",
   "pygments_lexer": "ipython3",
   "version": "3.10.18"
  }
 },
 "nbformat": 4,
 "nbformat_minor": 5
}
